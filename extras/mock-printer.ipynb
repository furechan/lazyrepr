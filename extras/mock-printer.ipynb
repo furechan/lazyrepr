{
 "cells": [
  {
   "cell_type": "code",
   "metadata": {
    "ExecuteTime": {
     "end_time": "2024-06-07T14:15:59.077791Z",
     "start_time": "2024-06-07T14:15:59.072301Z"
    }
   },
   "source": [
    "import sys\n",
    "\n",
    "from lazyrepr import ReprMixin\n",
    "\n",
    "from pathlib import Path\n"
   ],
   "outputs": [],
   "execution_count": 1
  },
  {
   "cell_type": "code",
   "execution_count": null,
   "metadata": {},
   "outputs": [],
   "source": [
    "tests = Path.cwd().joinpath(\"../tests\").resolve(True)\n",
    "sys.path.append(str(tests))"
   ]
  },
  {
   "metadata": {},
   "cell_type": "code",
   "outputs": [],
   "execution_count": 14,
   "source": [
    "\n",
    "from mock_printer import MockPrinter"
   ]
  },
  {
   "cell_type": "code",
   "execution_count": 15,
   "metadata": {},
   "outputs": [
    {
     "data": {
      "text/plain": [
       "'MACD(12, 26, 9)'"
      ]
     },
     "execution_count": 15,
     "metadata": {},
     "output_type": "execute_result"
    }
   ],
   "source": [
    "class MACD(ReprMixin):\n",
    "    def __init__(self, short=12, long=26, signal=9, *, percent=False):\n",
    "        self.short = short\n",
    "        self.long = long\n",
    "        self.signal = signal\n",
    "        self.percent = percent\n",
    "\n",
    "\n",
    "MockPrinter.render(MACD())"
   ]
  },
  {
   "cell_type": "code",
   "execution_count": null,
   "metadata": {},
   "outputs": [],
   "source": []
  }
 ],
 "metadata": {
  "kernelspec": {
   "display_name": ".venv",
   "language": "python",
   "name": "python3"
  },
  "language_info": {
   "codemirror_mode": {
    "name": "ipython",
    "version": 3
   },
   "file_extension": ".py",
   "mimetype": "text/x-python",
   "name": "python",
   "nbconvert_exporter": "python",
   "pygments_lexer": "ipython3",
   "version": "3.9.18"
  }
 },
 "nbformat": 4,
 "nbformat_minor": 2
}
