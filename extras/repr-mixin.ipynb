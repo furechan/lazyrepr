{
 "cells": [
  {
   "cell_type": "code",
   "execution_count": 5,
   "metadata": {
    "ExecuteTime": {
     "end_time": "2024-06-07T14:15:02.707472Z",
     "start_time": "2024-06-07T14:15:02.702591Z"
    }
   },
   "outputs": [],
   "source": [
    "from lazyrepr import ReprMixin"
   ]
  },
  {
   "cell_type": "code",
   "execution_count": 6,
   "metadata": {
    "ExecuteTime": {
     "end_time": "2024-06-07T14:15:02.720141Z",
     "start_time": "2024-06-07T14:15:02.713158Z"
    }
   },
   "outputs": [
    {
     "data": {
      "text/plain": [
       "Foo('foo')"
      ]
     },
     "execution_count": 6,
     "metadata": {},
     "output_type": "execute_result"
    }
   ],
   "source": [
    "class Foo(ReprMixin):\n",
    "    def __init__(self, name=\"foo\", *, flag: bool = False):\n",
    "        self.name = name\n",
    "        self.flag = flag\n",
    "\n",
    "Foo()"
   ]
  },
  {
   "cell_type": "code",
   "execution_count": 7,
   "metadata": {
    "ExecuteTime": {
     "end_time": "2024-06-07T14:15:02.727078Z",
     "start_time": "2024-06-07T14:15:02.721219Z"
    }
   },
   "outputs": [
    {
     "data": {
      "text/plain": [
       "MyList([0, 1, 2, 3, 4, 5, 6, 7, 8, 9, 10, 11, 12, 13, 14, 15, 16, 17, 18, 19])"
      ]
     },
     "execution_count": 7,
     "metadata": {},
     "output_type": "execute_result"
    }
   ],
   "source": [
    "class MyList(ReprMixin):\n",
    "    def __init__(self, items):\n",
    "        self.items = list(items)\n",
    "\n",
    "\n",
    "MyList(range(20))"
   ]
  },
  {
   "cell_type": "code",
   "execution_count": 8,
   "metadata": {
    "ExecuteTime": {
     "end_time": "2024-06-07T14:15:10.411574Z",
     "start_time": "2024-06-07T14:15:10.404635Z"
    }
   },
   "outputs": [
    {
     "data": {
      "text/plain": [
       "Series([0, 1, 2, 3, 4, 5, 6, 7, 8, 9, 10, 11, 12, 13, 14, 15, 16, 17, 18, 19],\n",
       "       index=[0,\n",
       "              1,\n",
       "              2,\n",
       "              3,\n",
       "              4,\n",
       "              5,\n",
       "              6,\n",
       "              7,\n",
       "              8,\n",
       "              9,\n",
       "              10,\n",
       "              11,\n",
       "              12,\n",
       "              13,\n",
       "              14,\n",
       "              15,\n",
       "              16,\n",
       "              17,\n",
       "              18,\n",
       "              19])"
      ]
     },
     "execution_count": 8,
     "metadata": {},
     "output_type": "execute_result"
    }
   ],
   "source": [
    "class Series(ReprMixin):\n",
    "    def __init__(self, values, *, index=()):\n",
    "        self.values = list(values)\n",
    "        self.index = list(index)\n",
    "\n",
    "\n",
    "series = Series(range(20), index=range(20))\n",
    "series\n"
   ]
  },
  {
   "cell_type": "code",
   "execution_count": null,
   "metadata": {},
   "outputs": [],
   "source": []
  },
  {
   "cell_type": "code",
   "execution_count": null,
   "metadata": {},
   "outputs": [],
   "source": []
  }
 ],
 "metadata": {
  "kernelspec": {
   "display_name": ".venv",
   "language": "python",
   "name": "python3"
  },
  "language_info": {
   "codemirror_mode": {
    "name": "ipython",
    "version": 3
   },
   "file_extension": ".py",
   "mimetype": "text/x-python",
   "name": "python",
   "nbconvert_exporter": "python",
   "pygments_lexer": "ipython3",
   "version": "3.9.20"
  }
 },
 "nbformat": 4,
 "nbformat_minor": 2
}
