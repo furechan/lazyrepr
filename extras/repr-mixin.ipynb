{
 "cells": [
  {
   "cell_type": "code",
   "metadata": {
    "ExecuteTime": {
     "end_time": "2024-06-07T14:15:02.707472Z",
     "start_time": "2024-06-07T14:15:02.702591Z"
    }
   },
   "source": [
    "from lazyrepr import ReprMixin"
   ],
   "outputs": [],
   "execution_count": 1
  },
  {
   "cell_type": "code",
   "metadata": {
    "ExecuteTime": {
     "end_time": "2024-06-07T14:15:02.720141Z",
     "start_time": "2024-06-07T14:15:02.713158Z"
    }
   },
   "source": [
    "class MACD(ReprMixin):\n",
    "    def __init__(self, short=12, long=26, signal=9, *, percent=False):\n",
    "        self.short = short\n",
    "        self.long = long\n",
    "        self.signal = signal\n",
    "        self.percent = percent\n",
    "\n",
    "\n",
    "MACD()"
   ],
   "outputs": [
    {
     "data": {
      "text/plain": [
       "MACD(12, 26, 9)"
      ]
     },
     "execution_count": 2,
     "metadata": {},
     "output_type": "execute_result"
    }
   ],
   "execution_count": 2
  },
  {
   "cell_type": "code",
   "metadata": {
    "ExecuteTime": {
     "end_time": "2024-06-07T14:15:02.727078Z",
     "start_time": "2024-06-07T14:15:02.721219Z"
    }
   },
   "source": [
    "class MyList(ReprMixin):\n",
    "    def __init__(self, items):\n",
    "        self.items = list(items)\n",
    "\n",
    "\n",
    "MyList(range(10))"
   ],
   "outputs": [
    {
     "data": {
      "text/plain": [
       "MyList([0, 1, 2, 3, 4, 5, 6, 7, 8, 9])"
      ]
     },
     "execution_count": 3,
     "metadata": {},
     "output_type": "execute_result"
    }
   ],
   "execution_count": 3
  },
  {
   "cell_type": "code",
   "metadata": {
    "ExecuteTime": {
     "end_time": "2024-06-07T14:15:10.411574Z",
     "start_time": "2024-06-07T14:15:10.404635Z"
    }
   },
   "source": [
    "# NOTE dataclass overrides __repr__ and __str__ by default!\n",
    "\n",
    "from dataclasses import dataclass\n",
    "\n",
    "\n",
    "@dataclass\n",
    "class PPO(ReprMixin):\n",
    "    short: int = 12\n",
    "    long: int = 26\n",
    "    signal: int = 9\n",
    "    percent: bool = False\n",
    "\n",
    "\n",
    "PPO()"
   ],
   "outputs": [
    {
     "data": {
      "text/plain": [
       "PPO(short=12, long=26, signal=9, percent=False)"
      ]
     },
     "execution_count": 6,
     "metadata": {},
     "output_type": "execute_result"
    }
   ],
   "execution_count": 6
  },
  {
   "cell_type": "code",
   "execution_count": null,
   "metadata": {},
   "outputs": [],
   "source": []
  }
 ],
 "metadata": {
  "kernelspec": {
   "display_name": ".venv",
   "language": "python",
   "name": "python3"
  },
  "language_info": {
   "codemirror_mode": {
    "name": "ipython",
    "version": 3
   },
   "file_extension": ".py",
   "mimetype": "text/x-python",
   "name": "python",
   "nbconvert_exporter": "python",
   "pygments_lexer": "ipython3",
   "version": "3.9.18"
  }
 },
 "nbformat": 4,
 "nbformat_minor": 2
}
